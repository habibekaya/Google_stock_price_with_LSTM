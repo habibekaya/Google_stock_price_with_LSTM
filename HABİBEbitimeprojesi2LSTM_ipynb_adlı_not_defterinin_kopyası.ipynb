{
  "cells": [
    {
      "cell_type": "markdown",
      "metadata": {
        "id": "view-in-github",
        "colab_type": "text"
      },
      "source": [
        "<a href=\"https://colab.research.google.com/github/habibekaya/Google_stock_price_with_LSTM/blob/main/HAB%C4%B0BEbitimeprojesi2LSTM_ipynb_adl%C4%B1_not_defterinin_kopyas%C4%B1.ipynb\" target=\"_parent\"><img src=\"https://colab.research.google.com/assets/colab-badge.svg\" alt=\"Open In Colab\"/></a>"
      ]
    },
    {
      "cell_type": "code",
      "execution_count": null,
      "metadata": {
        "id": "1KfTmCS0jgDL"
      },
      "outputs": [],
      "source": [
        "import numpy as np\n",
        "import pandas as pd \n",
        "import matplotlib.pyplot as plt\n",
        "import math\n",
        "from keras.models import Sequential\n",
        "from keras.layers import Dense\n",
        "from keras.layers import LSTM\n",
        "from sklearn.preprocessing import MinMaxScaler\n",
        "from sklearn.metrics import mean_squared_error\n"
      ]
    },
    {
      "cell_type": "code",
      "execution_count": null,
      "metadata": {
        "id": "IIj6SsNlm9ar"
      },
      "outputs": [],
      "source": [
        "df= pd.read_csv(\"Google_Stock_Price_Train.csv\",index_col=\"Date\",parse_dates=True)"
      ]
    },
    {
      "cell_type": "code",
      "execution_count": null,
      "metadata": {
        "colab": {
          "base_uri": "https://localhost:8080/",
          "height": 237
        },
        "id": "-fT31PNQ2WLV",
        "outputId": "c3a8424d-adfe-4eee-955e-fa76f0a71121"
      },
      "outputs": [
        {
          "output_type": "execute_result",
          "data": {
            "text/plain": [
              "              Open    High     Low   Close      Volume\n",
              "Date                                                  \n",
              "2012-01-03  325.25  332.83  324.97  663.59   7,380,500\n",
              "2012-01-04  331.27  333.87  329.08  666.45   5,749,400\n",
              "2012-01-05  329.83  330.75  326.89  657.21   6,590,300\n",
              "2012-01-06  328.34  328.77  323.68  648.24   5,405,900\n",
              "2012-01-09  322.04  322.29  309.46  620.76  11,688,800"
            ],
            "text/html": [
              "\n",
              "  <div id=\"df-616c27a6-7fe4-45b2-a7f3-b09a6f151f40\">\n",
              "    <div class=\"colab-df-container\">\n",
              "      <div>\n",
              "<style scoped>\n",
              "    .dataframe tbody tr th:only-of-type {\n",
              "        vertical-align: middle;\n",
              "    }\n",
              "\n",
              "    .dataframe tbody tr th {\n",
              "        vertical-align: top;\n",
              "    }\n",
              "\n",
              "    .dataframe thead th {\n",
              "        text-align: right;\n",
              "    }\n",
              "</style>\n",
              "<table border=\"1\" class=\"dataframe\">\n",
              "  <thead>\n",
              "    <tr style=\"text-align: right;\">\n",
              "      <th></th>\n",
              "      <th>Open</th>\n",
              "      <th>High</th>\n",
              "      <th>Low</th>\n",
              "      <th>Close</th>\n",
              "      <th>Volume</th>\n",
              "    </tr>\n",
              "    <tr>\n",
              "      <th>Date</th>\n",
              "      <th></th>\n",
              "      <th></th>\n",
              "      <th></th>\n",
              "      <th></th>\n",
              "      <th></th>\n",
              "    </tr>\n",
              "  </thead>\n",
              "  <tbody>\n",
              "    <tr>\n",
              "      <th>2012-01-03</th>\n",
              "      <td>325.25</td>\n",
              "      <td>332.83</td>\n",
              "      <td>324.97</td>\n",
              "      <td>663.59</td>\n",
              "      <td>7,380,500</td>\n",
              "    </tr>\n",
              "    <tr>\n",
              "      <th>2012-01-04</th>\n",
              "      <td>331.27</td>\n",
              "      <td>333.87</td>\n",
              "      <td>329.08</td>\n",
              "      <td>666.45</td>\n",
              "      <td>5,749,400</td>\n",
              "    </tr>\n",
              "    <tr>\n",
              "      <th>2012-01-05</th>\n",
              "      <td>329.83</td>\n",
              "      <td>330.75</td>\n",
              "      <td>326.89</td>\n",
              "      <td>657.21</td>\n",
              "      <td>6,590,300</td>\n",
              "    </tr>\n",
              "    <tr>\n",
              "      <th>2012-01-06</th>\n",
              "      <td>328.34</td>\n",
              "      <td>328.77</td>\n",
              "      <td>323.68</td>\n",
              "      <td>648.24</td>\n",
              "      <td>5,405,900</td>\n",
              "    </tr>\n",
              "    <tr>\n",
              "      <th>2012-01-09</th>\n",
              "      <td>322.04</td>\n",
              "      <td>322.29</td>\n",
              "      <td>309.46</td>\n",
              "      <td>620.76</td>\n",
              "      <td>11,688,800</td>\n",
              "    </tr>\n",
              "  </tbody>\n",
              "</table>\n",
              "</div>\n",
              "      <button class=\"colab-df-convert\" onclick=\"convertToInteractive('df-616c27a6-7fe4-45b2-a7f3-b09a6f151f40')\"\n",
              "              title=\"Convert this dataframe to an interactive table.\"\n",
              "              style=\"display:none;\">\n",
              "        \n",
              "  <svg xmlns=\"http://www.w3.org/2000/svg\" height=\"24px\"viewBox=\"0 0 24 24\"\n",
              "       width=\"24px\">\n",
              "    <path d=\"M0 0h24v24H0V0z\" fill=\"none\"/>\n",
              "    <path d=\"M18.56 5.44l.94 2.06.94-2.06 2.06-.94-2.06-.94-.94-2.06-.94 2.06-2.06.94zm-11 1L8.5 8.5l.94-2.06 2.06-.94-2.06-.94L8.5 2.5l-.94 2.06-2.06.94zm10 10l.94 2.06.94-2.06 2.06-.94-2.06-.94-.94-2.06-.94 2.06-2.06.94z\"/><path d=\"M17.41 7.96l-1.37-1.37c-.4-.4-.92-.59-1.43-.59-.52 0-1.04.2-1.43.59L10.3 9.45l-7.72 7.72c-.78.78-.78 2.05 0 2.83L4 21.41c.39.39.9.59 1.41.59.51 0 1.02-.2 1.41-.59l7.78-7.78 2.81-2.81c.8-.78.8-2.07 0-2.86zM5.41 20L4 18.59l7.72-7.72 1.47 1.35L5.41 20z\"/>\n",
              "  </svg>\n",
              "      </button>\n",
              "      \n",
              "  <style>\n",
              "    .colab-df-container {\n",
              "      display:flex;\n",
              "      flex-wrap:wrap;\n",
              "      gap: 12px;\n",
              "    }\n",
              "\n",
              "    .colab-df-convert {\n",
              "      background-color: #E8F0FE;\n",
              "      border: none;\n",
              "      border-radius: 50%;\n",
              "      cursor: pointer;\n",
              "      display: none;\n",
              "      fill: #1967D2;\n",
              "      height: 32px;\n",
              "      padding: 0 0 0 0;\n",
              "      width: 32px;\n",
              "    }\n",
              "\n",
              "    .colab-df-convert:hover {\n",
              "      background-color: #E2EBFA;\n",
              "      box-shadow: 0px 1px 2px rgba(60, 64, 67, 0.3), 0px 1px 3px 1px rgba(60, 64, 67, 0.15);\n",
              "      fill: #174EA6;\n",
              "    }\n",
              "\n",
              "    [theme=dark] .colab-df-convert {\n",
              "      background-color: #3B4455;\n",
              "      fill: #D2E3FC;\n",
              "    }\n",
              "\n",
              "    [theme=dark] .colab-df-convert:hover {\n",
              "      background-color: #434B5C;\n",
              "      box-shadow: 0px 1px 3px 1px rgba(0, 0, 0, 0.15);\n",
              "      filter: drop-shadow(0px 1px 2px rgba(0, 0, 0, 0.3));\n",
              "      fill: #FFFFFF;\n",
              "    }\n",
              "  </style>\n",
              "\n",
              "      <script>\n",
              "        const buttonEl =\n",
              "          document.querySelector('#df-616c27a6-7fe4-45b2-a7f3-b09a6f151f40 button.colab-df-convert');\n",
              "        buttonEl.style.display =\n",
              "          google.colab.kernel.accessAllowed ? 'block' : 'none';\n",
              "\n",
              "        async function convertToInteractive(key) {\n",
              "          const element = document.querySelector('#df-616c27a6-7fe4-45b2-a7f3-b09a6f151f40');\n",
              "          const dataTable =\n",
              "            await google.colab.kernel.invokeFunction('convertToInteractive',\n",
              "                                                     [key], {});\n",
              "          if (!dataTable) return;\n",
              "\n",
              "          const docLinkHtml = 'Like what you see? Visit the ' +\n",
              "            '<a target=\"_blank\" href=https://colab.research.google.com/notebooks/data_table.ipynb>data table notebook</a>'\n",
              "            + ' to learn more about interactive tables.';\n",
              "          element.innerHTML = '';\n",
              "          dataTable['output_type'] = 'display_data';\n",
              "          await google.colab.output.renderOutput(dataTable, element);\n",
              "          const docLink = document.createElement('div');\n",
              "          docLink.innerHTML = docLinkHtml;\n",
              "          element.appendChild(docLink);\n",
              "        }\n",
              "      </script>\n",
              "    </div>\n",
              "  </div>\n",
              "  "
            ]
          },
          "metadata": {},
          "execution_count": 3
        }
      ],
      "source": [
        "df.head()"
      ]
    },
    {
      "cell_type": "code",
      "source": [
        "df.tail()"
      ],
      "metadata": {
        "colab": {
          "base_uri": "https://localhost:8080/",
          "height": 237
        },
        "id": "Du0GK8CM_-wS",
        "outputId": "6aa3a0dc-46d3-4956-920d-f4692f6eea93"
      },
      "execution_count": null,
      "outputs": [
        {
          "output_type": "execute_result",
          "data": {
            "text/plain": [
              "              Open    High     Low   Close     Volume\n",
              "Date                                                 \n",
              "2016-12-23  790.90  792.74  787.28  789.91    623,400\n",
              "2016-12-27  790.68  797.86  787.66  791.55    789,100\n",
              "2016-12-28  793.70  794.23  783.20  785.05  1,153,800\n",
              "2016-12-29  783.33  785.93  778.92  782.79    744,300\n",
              "2016-12-30  782.75  782.78  770.41  771.82  1,770,000"
            ],
            "text/html": [
              "\n",
              "  <div id=\"df-9ed09691-a16d-4cd6-9c7b-433197cae391\">\n",
              "    <div class=\"colab-df-container\">\n",
              "      <div>\n",
              "<style scoped>\n",
              "    .dataframe tbody tr th:only-of-type {\n",
              "        vertical-align: middle;\n",
              "    }\n",
              "\n",
              "    .dataframe tbody tr th {\n",
              "        vertical-align: top;\n",
              "    }\n",
              "\n",
              "    .dataframe thead th {\n",
              "        text-align: right;\n",
              "    }\n",
              "</style>\n",
              "<table border=\"1\" class=\"dataframe\">\n",
              "  <thead>\n",
              "    <tr style=\"text-align: right;\">\n",
              "      <th></th>\n",
              "      <th>Open</th>\n",
              "      <th>High</th>\n",
              "      <th>Low</th>\n",
              "      <th>Close</th>\n",
              "      <th>Volume</th>\n",
              "    </tr>\n",
              "    <tr>\n",
              "      <th>Date</th>\n",
              "      <th></th>\n",
              "      <th></th>\n",
              "      <th></th>\n",
              "      <th></th>\n",
              "      <th></th>\n",
              "    </tr>\n",
              "  </thead>\n",
              "  <tbody>\n",
              "    <tr>\n",
              "      <th>2016-12-23</th>\n",
              "      <td>790.90</td>\n",
              "      <td>792.74</td>\n",
              "      <td>787.28</td>\n",
              "      <td>789.91</td>\n",
              "      <td>623,400</td>\n",
              "    </tr>\n",
              "    <tr>\n",
              "      <th>2016-12-27</th>\n",
              "      <td>790.68</td>\n",
              "      <td>797.86</td>\n",
              "      <td>787.66</td>\n",
              "      <td>791.55</td>\n",
              "      <td>789,100</td>\n",
              "    </tr>\n",
              "    <tr>\n",
              "      <th>2016-12-28</th>\n",
              "      <td>793.70</td>\n",
              "      <td>794.23</td>\n",
              "      <td>783.20</td>\n",
              "      <td>785.05</td>\n",
              "      <td>1,153,800</td>\n",
              "    </tr>\n",
              "    <tr>\n",
              "      <th>2016-12-29</th>\n",
              "      <td>783.33</td>\n",
              "      <td>785.93</td>\n",
              "      <td>778.92</td>\n",
              "      <td>782.79</td>\n",
              "      <td>744,300</td>\n",
              "    </tr>\n",
              "    <tr>\n",
              "      <th>2016-12-30</th>\n",
              "      <td>782.75</td>\n",
              "      <td>782.78</td>\n",
              "      <td>770.41</td>\n",
              "      <td>771.82</td>\n",
              "      <td>1,770,000</td>\n",
              "    </tr>\n",
              "  </tbody>\n",
              "</table>\n",
              "</div>\n",
              "      <button class=\"colab-df-convert\" onclick=\"convertToInteractive('df-9ed09691-a16d-4cd6-9c7b-433197cae391')\"\n",
              "              title=\"Convert this dataframe to an interactive table.\"\n",
              "              style=\"display:none;\">\n",
              "        \n",
              "  <svg xmlns=\"http://www.w3.org/2000/svg\" height=\"24px\"viewBox=\"0 0 24 24\"\n",
              "       width=\"24px\">\n",
              "    <path d=\"M0 0h24v24H0V0z\" fill=\"none\"/>\n",
              "    <path d=\"M18.56 5.44l.94 2.06.94-2.06 2.06-.94-2.06-.94-.94-2.06-.94 2.06-2.06.94zm-11 1L8.5 8.5l.94-2.06 2.06-.94-2.06-.94L8.5 2.5l-.94 2.06-2.06.94zm10 10l.94 2.06.94-2.06 2.06-.94-2.06-.94-.94-2.06-.94 2.06-2.06.94z\"/><path d=\"M17.41 7.96l-1.37-1.37c-.4-.4-.92-.59-1.43-.59-.52 0-1.04.2-1.43.59L10.3 9.45l-7.72 7.72c-.78.78-.78 2.05 0 2.83L4 21.41c.39.39.9.59 1.41.59.51 0 1.02-.2 1.41-.59l7.78-7.78 2.81-2.81c.8-.78.8-2.07 0-2.86zM5.41 20L4 18.59l7.72-7.72 1.47 1.35L5.41 20z\"/>\n",
              "  </svg>\n",
              "      </button>\n",
              "      \n",
              "  <style>\n",
              "    .colab-df-container {\n",
              "      display:flex;\n",
              "      flex-wrap:wrap;\n",
              "      gap: 12px;\n",
              "    }\n",
              "\n",
              "    .colab-df-convert {\n",
              "      background-color: #E8F0FE;\n",
              "      border: none;\n",
              "      border-radius: 50%;\n",
              "      cursor: pointer;\n",
              "      display: none;\n",
              "      fill: #1967D2;\n",
              "      height: 32px;\n",
              "      padding: 0 0 0 0;\n",
              "      width: 32px;\n",
              "    }\n",
              "\n",
              "    .colab-df-convert:hover {\n",
              "      background-color: #E2EBFA;\n",
              "      box-shadow: 0px 1px 2px rgba(60, 64, 67, 0.3), 0px 1px 3px 1px rgba(60, 64, 67, 0.15);\n",
              "      fill: #174EA6;\n",
              "    }\n",
              "\n",
              "    [theme=dark] .colab-df-convert {\n",
              "      background-color: #3B4455;\n",
              "      fill: #D2E3FC;\n",
              "    }\n",
              "\n",
              "    [theme=dark] .colab-df-convert:hover {\n",
              "      background-color: #434B5C;\n",
              "      box-shadow: 0px 1px 3px 1px rgba(0, 0, 0, 0.15);\n",
              "      filter: drop-shadow(0px 1px 2px rgba(0, 0, 0, 0.3));\n",
              "      fill: #FFFFFF;\n",
              "    }\n",
              "  </style>\n",
              "\n",
              "      <script>\n",
              "        const buttonEl =\n",
              "          document.querySelector('#df-9ed09691-a16d-4cd6-9c7b-433197cae391 button.colab-df-convert');\n",
              "        buttonEl.style.display =\n",
              "          google.colab.kernel.accessAllowed ? 'block' : 'none';\n",
              "\n",
              "        async function convertToInteractive(key) {\n",
              "          const element = document.querySelector('#df-9ed09691-a16d-4cd6-9c7b-433197cae391');\n",
              "          const dataTable =\n",
              "            await google.colab.kernel.invokeFunction('convertToInteractive',\n",
              "                                                     [key], {});\n",
              "          if (!dataTable) return;\n",
              "\n",
              "          const docLinkHtml = 'Like what you see? Visit the ' +\n",
              "            '<a target=\"_blank\" href=https://colab.research.google.com/notebooks/data_table.ipynb>data table notebook</a>'\n",
              "            + ' to learn more about interactive tables.';\n",
              "          element.innerHTML = '';\n",
              "          dataTable['output_type'] = 'display_data';\n",
              "          await google.colab.output.renderOutput(dataTable, element);\n",
              "          const docLink = document.createElement('div');\n",
              "          docLink.innerHTML = docLinkHtml;\n",
              "          element.appendChild(docLink);\n",
              "        }\n",
              "      </script>\n",
              "    </div>\n",
              "  </div>\n",
              "  "
            ]
          },
          "metadata": {},
          "execution_count": 4
        }
      ]
    },
    {
      "cell_type": "code",
      "source": [
        "df.isna().sum()"
      ],
      "metadata": {
        "colab": {
          "base_uri": "https://localhost:8080/"
        },
        "id": "wQkx9_-3AiV9",
        "outputId": "a3354111-9770-47fd-aaed-6c3bc77e48c0"
      },
      "execution_count": null,
      "outputs": [
        {
          "output_type": "execute_result",
          "data": {
            "text/plain": [
              "Open      0\n",
              "High      0\n",
              "Low       0\n",
              "Close     0\n",
              "Volume    0\n",
              "dtype: int64"
            ]
          },
          "metadata": {},
          "execution_count": 5
        }
      ]
    },
    {
      "cell_type": "code",
      "execution_count": null,
      "metadata": {
        "colab": {
          "base_uri": "https://localhost:8080/"
        },
        "id": "I5STefQx25IK",
        "outputId": "139b48f8-7d7c-4fa7-b404-141bb818ada5"
      },
      "outputs": [
        {
          "output_type": "execute_result",
          "data": {
            "text/plain": [
              "(1258, 5)"
            ]
          },
          "metadata": {},
          "execution_count": 6
        }
      ],
      "source": [
        "df.shape"
      ]
    },
    {
      "cell_type": "code",
      "source": [
        "df.info()"
      ],
      "metadata": {
        "colab": {
          "base_uri": "https://localhost:8080/"
        },
        "id": "Ab4asJjNAlVg",
        "outputId": "82e70988-cc16-4664-97a5-e579955319ff"
      },
      "execution_count": null,
      "outputs": [
        {
          "output_type": "stream",
          "name": "stdout",
          "text": [
            "<class 'pandas.core.frame.DataFrame'>\n",
            "DatetimeIndex: 1258 entries, 2012-01-03 to 2016-12-30\n",
            "Data columns (total 5 columns):\n",
            " #   Column  Non-Null Count  Dtype  \n",
            "---  ------  --------------  -----  \n",
            " 0   Open    1258 non-null   float64\n",
            " 1   High    1258 non-null   float64\n",
            " 2   Low     1258 non-null   float64\n",
            " 3   Close   1258 non-null   object \n",
            " 4   Volume  1258 non-null   object \n",
            "dtypes: float64(3), object(2)\n",
            "memory usage: 59.0+ KB\n"
          ]
        }
      ]
    },
    {
      "cell_type": "code",
      "source": [
        "df['Open'].plot(figsize=(16,6))"
      ],
      "metadata": {
        "colab": {
          "base_uri": "https://localhost:8080/",
          "height": 385
        },
        "id": "cBcWRh1MA2EH",
        "outputId": "59c99c13-a1f3-475e-91cb-c671c52c3833"
      },
      "execution_count": null,
      "outputs": [
        {
          "output_type": "execute_result",
          "data": {
            "text/plain": [
              "<matplotlib.axes._subplots.AxesSubplot at 0x7f7bfb6da410>"
            ]
          },
          "metadata": {},
          "execution_count": 8
        },
        {
          "output_type": "display_data",
          "data": {
            "text/plain": [
              "<Figure size 1152x432 with 1 Axes>"
            ],
            "image/png": "[encoded data removed]"
          },
          "metadata": {
            "needs_background": "light"
          }
        }
      ]
    },
    {
      "cell_type": "code",
      "source": [],
      "metadata": {
        "id": "UoU8PGSr4iJd"
      },
      "execution_count": null,
      "outputs": []
    },
    {
      "cell_type": "code",
      "source": [
        "#df[\"Close\"] = df[\"Close\"].str.replace(',', '').astype(float)"
      ],
      "metadata": {
        "id": "oMTr6XpuBIGv"
      },
      "execution_count": null,
      "outputs": []
    },
    {
      "cell_type": "code",
      "source": [
        " #plot baseline and predictions"
      ],
      "metadata": {
        "id": "EJoVVZVHBd45"
      },
      "execution_count": null,
      "outputs": []
    },
    {
      "cell_type": "code",
      "execution_count": null,
      "metadata": {
        "id": "HyvpPXPFnoz9"
      },
      "outputs": [],
      "source": [
        "\n",
        "df = df.iloc[:, 1: 2].values\n"
      ]
    },
    {
      "cell_type": "code",
      "execution_count": null,
      "metadata": {
        "colab": {
          "base_uri": "https://localhost:8080/"
        },
        "id": "i-a3n0IK2j7G",
        "outputId": "55fcfd5c-f4db-476a-aaf0-2a46d5fabad6"
      },
      "outputs": [
        {
          "output_type": "execute_result",
          "data": {
            "text/plain": [
              "array([[332.83],\n",
              "       [333.87],\n",
              "       [330.75],\n",
              "       ...,\n",
              "       [794.23],\n",
              "       [785.93],\n",
              "       [782.78]])"
            ]
          },
          "metadata": {},
          "execution_count": 12
        }
      ],
      "source": [
        "df"
      ]
    },
    {
      "cell_type": "code",
      "execution_count": null,
      "metadata": {
        "colab": {
          "base_uri": "https://localhost:8080/"
        },
        "id": "5XN0_bX62xXm",
        "outputId": "35926e4b-b9e8-4de4-85fb-dd4fc13fedae"
      },
      "outputs": [
        {
          "output_type": "execute_result",
          "data": {
            "text/plain": [
              "(1258, 1)"
            ]
          },
          "metadata": {},
          "execution_count": 13
        }
      ],
      "source": [
        "df.shape"
      ]
    },
    {
      "cell_type": "code",
      "execution_count": null,
      "metadata": {
        "colab": {
          "base_uri": "https://localhost:8080/"
        },
        "id": "O9YfYZjVqkLs",
        "outputId": "10987b5d-cb2d-47cf-b745-a7719d530721"
      },
      "outputs": [
        {
          "output_type": "execute_result",
          "data": {
            "text/plain": [
              "numpy.ndarray"
            ]
          },
          "metadata": {},
          "execution_count": 14
        }
      ],
      "source": [
        "type(df)"
      ]
    },
    {
      "cell_type": "code",
      "execution_count": null,
      "metadata": {
        "colab": {
          "base_uri": "https://localhost:8080/"
        },
        "id": "2EyamEUXrQIn",
        "outputId": "a472da7e-9d9f-4a4f-ee18-d2554e4f82e7"
      },
      "outputs": [
        {
          "output_type": "execute_result",
          "data": {
            "text/plain": [
              "2"
            ]
          },
          "metadata": {},
          "execution_count": 15
        }
      ],
      "source": [
        "df.ndim"
      ]
    },
    {
      "cell_type": "code",
      "source": [
        "df.shape\n"
      ],
      "metadata": {
        "colab": {
          "base_uri": "https://localhost:8080/"
        },
        "id": "2T15uPoFIpoM",
        "outputId": "21942e3c-161a-478b-e252-de1996613040"
      },
      "execution_count": null,
      "outputs": [
        {
          "output_type": "execute_result",
          "data": {
            "text/plain": [
              "(1258, 1)"
            ]
          },
          "metadata": {},
          "execution_count": 16
        }
      ]
    },
    {
      "cell_type": "code",
      "execution_count": null,
      "metadata": {
        "id": "qWUWVZv2q13h"
      },
      "outputs": [],
      "source": [
        "from sklearn.preprocessing import MinMaxScaler\n",
        "#veriyi işleme \n"
      ]
    },
    {
      "cell_type": "code",
      "execution_count": null,
      "metadata": {
        "id": "4pmLgzDryFzb"
      },
      "outputs": [],
      "source": [
        "sc = MinMaxScaler(feature_range = (0, 1))"
      ]
    },
    {
      "cell_type": "code",
      "execution_count": null,
      "metadata": {
        "id": "FdUklCSjyYri"
      },
      "outputs": [],
      "source": [
        "df= sc.fit_transform(df.reshape(-1,1))\n",
        "#fit_transformOrijinal veri setini değiştirmek için yöntemi kullanmamız gerekiyor "
      ]
    },
    {
      "cell_type": "code",
      "source": [],
      "metadata": {
        "id": "tPi6lUCbstyu"
      },
      "execution_count": null,
      "outputs": []
    },
    {
      "cell_type": "code",
      "execution_count": null,
      "metadata": {
        "id": "pbJ8Dplp6Dga"
      },
      "outputs": [],
      "source": [
        "1,2,3,4,5\n",
        "1,2=3\n",
        "2,3=4"
      ]
    },
    {
      "cell_type": "code",
      "execution_count": null,
      "metadata": {
        "id": "O3KaBGYix9Xj"
      },
      "outputs": [],
      "source": [
        "x_df_train =[]\n",
        "y_df_train=[]"
      ]
    },
    {
      "cell_type": "code",
      "execution_count": null,
      "metadata": {
        "colab": {
          "base_uri": "https://localhost:8080/"
        },
        "id": "4DbkLw1rz0dg",
        "outputId": "96ccabfc-fa60-4485-b0ed-28c695f34868"
      },
      "outputs": [
        {
          "output_type": "stream",
          "name": "stdout",
          "text": [
            "[array([0.09640129, 0.09834351, 0.09251685, 0.08881917, 0.07671765,\n",
            "       0.06444805, 0.06033951, 0.063589  , 0.05806114, 0.06274861,\n",
            "       0.06463481, 0.07113377, 0.02463257, 0.02244757, 0.02153249,\n",
            "       0.01318468, 0.00926289, 0.01469737, 0.01439857, 0.01811493,\n",
            "       0.01951557, 0.02035595, 0.03027247, 0.04306497, 0.04173903,\n",
            "       0.04355053, 0.04648253, 0.0405625 , 0.04586625, 0.04416681,\n",
            "       0.04502587, 0.04119745, 0.04009562, 0.04963864, 0.0486115 ,\n",
            "       0.04037574, 0.04383065, 0.04450296, 0.0513941 , 0.05680991,\n",
            "       0.05690328, 0.05531589, 0.05391525, 0.04119745, 0.04340112,\n",
            "       0.04369993, 0.04407343, 0.03951669, 0.04960128, 0.05419538])]\n",
            "[0.05486768633163386]\n",
            "\n"
          ]
        }
      ],
      "source": [
        "timestep=50\n",
        "for i in range (timestep,len(df)):\n",
        "  x_df_train.append(df[i-timestep:i , 0])\n",
        "  y_df_train.append(df[i,0])\n",
        "  if i<=50:\n",
        "    print(x_df_train)\n",
        "    print(y_df_train)\n",
        "    print()\n",
        "\n",
        "\n",
        "\n",
        "#import numpy\n",
        "# convert an array of values into a dataset matrix\n",
        "#def create_dataset(dataset, time_step=1):\n",
        "#\tdataX, dataY = [], []\n",
        "\t#for i in range(len(dataset)-time_step-1):\n",
        "\t#\ta = dataset[i:(i+time_step), 0]   ###i=0, 0,1,2,3-----99   100 \n",
        "\t#\tdataX.append(a)\n",
        "\t#\tdataY.append(dataset[i + time_step, 0])\n",
        "\t#return numpy.array(dataX), numpy.array(dataY)"
      ]
    },
    {
      "cell_type": "code",
      "source": [
        "\n",
        "x_df_train = np.array(x_df_train)\n",
        "y_df_train = np.array(y_df_train) \n"
      ],
      "metadata": {
        "id": "tiMGHcG-ud8A"
      },
      "execution_count": null,
      "outputs": []
    },
    {
      "cell_type": "code",
      "source": [
        "x_df_train=np.reshape( x_df_train,(x_df_train.shape[0] ,x_df_train.shape[1],1))\n",
        "x_df_train"
      ],
      "metadata": {
        "colab": {
          "base_uri": "https://localhost:8080/"
        },
        "id": "sJSsG0hJyPol",
        "outputId": "31c42d23-0e5f-4e98-ca72-8135b44e6f4a"
      },
      "execution_count": null,
      "outputs": [
        {
          "output_type": "execute_result",
          "data": {
            "text/plain": [
              "array([[[0.09640129],\n",
              "        [0.09834351],\n",
              "        [0.09251685],\n",
              "        ...,\n",
              "        [0.03951669],\n",
              "        [0.04960128],\n",
              "        [0.05419538]],\n",
              "\n",
              "       [[0.09834351],\n",
              "        [0.09251685],\n",
              "        [0.08881917],\n",
              "        ...,\n",
              "        [0.04960128],\n",
              "        [0.05419538],\n",
              "        [0.05486769]],\n",
              "\n",
              "       [[0.09251685],\n",
              "        [0.08881917],\n",
              "        [0.07671765],\n",
              "        ...,\n",
              "        [0.05419538],\n",
              "        [0.05486769],\n",
              "        [0.05710871]],\n",
              "\n",
              "       ...,\n",
              "\n",
              "       [[0.94242441],\n",
              "        [0.9718565 ],\n",
              "        [0.97744038],\n",
              "        ...,\n",
              "        [0.95637477],\n",
              "        [0.95529161],\n",
              "        [0.96485331]],\n",
              "\n",
              "       [[0.9718565 ],\n",
              "        [0.97744038],\n",
              "        [0.97626384],\n",
              "        ...,\n",
              "        [0.95529161],\n",
              "        [0.96485331],\n",
              "        [0.95807422]],\n",
              "\n",
              "       [[0.97744038],\n",
              "        [0.97626384],\n",
              "        [0.96791604],\n",
              "        ...,\n",
              "        [0.96485331],\n",
              "        [0.95807422],\n",
              "        [0.94257381]]])"
            ]
          },
          "metadata": {},
          "execution_count": 23
        }
      ]
    },
    {
      "cell_type": "code",
      "execution_count": null,
      "metadata": {
        "colab": {
          "base_uri": "https://localhost:8080/"
        },
        "id": "APfAW9NP4MmI",
        "outputId": "e17b4e2d-de8f-4361-e8a0-5321fb80c9d6"
      },
      "outputs": [
        {
          "output_type": "stream",
          "name": "stdout",
          "text": [
            "[[[0.09640129]\n",
            "  [0.09834351]\n",
            "  [0.09251685]\n",
            "  ...\n",
            "  [0.03951669]\n",
            "  [0.04960128]\n",
            "  [0.05419538]]\n",
            "\n",
            " [[0.09834351]\n",
            "  [0.09251685]\n",
            "  [0.08881917]\n",
            "  ...\n",
            "  [0.04960128]\n",
            "  [0.05419538]\n",
            "  [0.05486769]]\n",
            "\n",
            " [[0.09251685]\n",
            "  [0.08881917]\n",
            "  [0.07671765]\n",
            "  ...\n",
            "  [0.05419538]\n",
            "  [0.05486769]\n",
            "  [0.05710871]]\n",
            "\n",
            " ...\n",
            "\n",
            " [[0.94242441]\n",
            "  [0.9718565 ]\n",
            "  [0.97744038]\n",
            "  ...\n",
            "  [0.95637477]\n",
            "  [0.95529161]\n",
            "  [0.96485331]]\n",
            "\n",
            " [[0.9718565 ]\n",
            "  [0.97744038]\n",
            "  [0.97626384]\n",
            "  ...\n",
            "  [0.95529161]\n",
            "  [0.96485331]\n",
            "  [0.95807422]]\n",
            "\n",
            " [[0.97744038]\n",
            "  [0.97626384]\n",
            "  [0.96791604]\n",
            "  ...\n",
            "  [0.96485331]\n",
            "  [0.95807422]\n",
            "  [0.94257381]]]\n"
          ]
        }
      ],
      "source": [
        " print(x_df_train)"
      ]
    },
    {
      "cell_type": "code",
      "execution_count": null,
      "metadata": {
        "colab": {
          "base_uri": "https://localhost:8080/"
        },
        "id": "E7wr4wiXETYl",
        "outputId": "daf153da-2b01-4fe0-99d7-75646ee79240"
      },
      "outputs": [
        {
          "output_type": "stream",
          "name": "stdout",
          "text": [
            "[0.05486769 0.05710871 0.06767886 ... 0.95807422 0.94257381 0.93669113]\n"
          ]
        }
      ],
      "source": [
        "\n",
        "print(y_df_train)"
      ]
    },
    {
      "cell_type": "code",
      "execution_count": null,
      "metadata": {
        "id": "pYQ8Uba8EfcL"
      },
      "outputs": [],
      "source": [
        "\n"
      ]
    },
    {
      "cell_type": "code",
      "execution_count": null,
      "metadata": {
        "colab": {
          "base_uri": "https://localhost:8080/"
        },
        "id": "2g_9HfU-ErgZ",
        "outputId": "a38850d4-55fc-4299-c7e7-f1ebb3f27d9d"
      },
      "outputs": [
        {
          "output_type": "stream",
          "name": "stdout",
          "text": [
            "(1208, 50, 1)\n",
            "(1208,)\n"
          ]
        }
      ],
      "source": [
        "print(x_df_train.shape)\n",
        "print(y_df_train.shape)"
      ]
    },
    {
      "cell_type": "code",
      "execution_count": null,
      "metadata": {
        "id": "5HA-tGRKFQK2"
      },
      "outputs": [],
      "source": [
        "\n",
        "#x_df.shape"
      ]
    },
    {
      "cell_type": "code",
      "source": [
        "x_df_train.shape[2]"
      ],
      "metadata": {
        "colab": {
          "base_uri": "https://localhost:8080/"
        },
        "id": "KuaFVKCDHfOk",
        "outputId": "4f3e3fee-089c-4363-ca56-e489943b3e8b"
      },
      "execution_count": null,
      "outputs": [
        {
          "output_type": "execute_result",
          "data": {
            "text/plain": [
              "1"
            ]
          },
          "metadata": {},
          "execution_count": 27
        }
      ]
    },
    {
      "cell_type": "code",
      "execution_count": null,
      "metadata": {
        "colab": {
          "base_uri": "https://localhost:8080/"
        },
        "id": "vk99u0-3IlLE",
        "outputId": "fa6be7ae-661a-4e08-8f46-35af1b3fcfe4"
      },
      "outputs": [
        {
          "output_type": "stream",
          "name": "stdout",
          "text": [
            "(1208, 50, 1)\n"
          ]
        }
      ],
      "source": [
        "print(x_df_train.shape)"
      ]
    },
    {
      "cell_type": "code",
      "execution_count": null,
      "metadata": {
        "id": "WLXf-EFSJoTa"
      },
      "outputs": [],
      "source": [
        "from tensorflow.keras.models import Sequential\n",
        "from tensorflow.keras.layers import Dense\n",
        "from tensorflow.keras.layers import LSTM\n",
        "from tensorflow.keras.layers import Dropout"
      ]
    },
    {
      "cell_type": "code",
      "execution_count": null,
      "metadata": {
        "id": "iCRww_V0J1Gf"
      },
      "outputs": [],
      "source": [
        "#Sequentialsınıf, zaman içinde katman dizileri ekleyerek sinir ağları oluşturmak için tasarlanmıştır. sequentialı nesneye ata. sinir ağını başlatmak için\n",
        "rnn= Sequential()\n"
      ]
    },
    {
      "cell_type": "code",
      "execution_count": null,
      "metadata": {
        "id": "aP_2RDr5Wv5f"
      },
      "outputs": [],
      "source": [
        "#ilk LSTM katmanını eklemek için add\n",
        "#3argüman eklemem lazım 1-units:nöron boyutsallığı 2-return_sequences = True ya da false:tekrar Lstm katmanı ekleyecek miyim son katman mı \n",
        "#3-input_shape :zaman adımları-tahmin edicilerin sayısı benim  timestep 40 mesela\n"
      ]
    },
    {
      "cell_type": "code",
      "execution_count": null,
      "metadata": {
        "id": "TXOIiF63ds_t"
      },
      "outputs": [],
      "source": [
        "rnn.add(LSTM(units =45 ,return_sequences=True ,input_shape=(x_df_train.shape[1],1) ))\n",
        "#x_df.shape[1]Tekrarlayan sinir ağını daha sonraki bir tarihte daha büyük bir model üzerinde eğitmeye karar vermemiz durumunda, sabit kodlanmış değer yerine kullandığımı"
      ]
    },
    {
      "cell_type": "code",
      "execution_count": null,
      "metadata": {
        "id": "dxdGrC4feO8P"
      },
      "outputs": [],
      "source": [
        "rnn.add(Dropout(0.2))\n",
        "#yaygın olan %20 bırakma olduğu için "
      ]
    },
    {
      "cell_type": "code",
      "execution_count": null,
      "metadata": {
        "id": "NZGA63SUEqsC"
      },
      "outputs": [],
      "source": [
        "rnn.add(LSTM(units=45,return_sequences=True,))\n",
        "rnn.add(Dropout(0.2))\n",
        "rnn.add(LSTM(units=45,return_sequences=False))\n",
        "rnn.add(Dropout(0.2))"
      ]
    },
    {
      "cell_type": "code",
      "execution_count": null,
      "metadata": {
        "id": "6gk2IWV1hu1b"
      },
      "outputs": [],
      "source": [
        "#for i in [True, True, False]:\n",
        " #  rnn.add(LSTM(units = 45, return_sequences = i))\n",
        "  # rnn.add(Dropout(0.2))"
      ]
    },
    {
      "cell_type": "code",
      "source": [],
      "metadata": {
        "id": "ZqvyVGH5L9A-"
      },
      "execution_count": null,
      "outputs": []
    },
    {
      "cell_type": "code",
      "execution_count": null,
      "metadata": {
        "id": "Fj-rVC5iyKvH"
      },
      "outputs": [],
      "source": [
        "rnn.add(Dense(units=1))\n",
        "#çıktı olarak sadece 1 değer tahmin edecek"
      ]
    },
    {
      "cell_type": "code",
      "execution_count": null,
      "metadata": {
        "id": "vNP8Ztau2lqS",
        "colab": {
          "base_uri": "https://localhost:8080/"
        },
        "outputId": "a7bdefdd-31f4-432c-da6a-0fe69aa09bf8"
      },
      "outputs": [
        {
          "output_type": "stream",
          "name": "stdout",
          "text": [
            "Epoch 1/100\n",
            "38/38 [==============================] - 9s 77ms/step - loss: 0.0390\n",
            "Epoch 2/100\n",
            "38/38 [==============================] - 3s 77ms/step - loss: 0.0054\n",
            "Epoch 3/100\n",
            "38/38 [==============================] - 5s 122ms/step - loss: 0.0053\n",
            "Epoch 4/100\n",
            "38/38 [==============================] - 3s 76ms/step - loss: 0.0054\n",
            "Epoch 5/100\n",
            "38/38 [==============================] - 3s 76ms/step - loss: 0.0048\n",
            "Epoch 6/100\n",
            "38/38 [==============================] - 3s 79ms/step - loss: 0.0045\n",
            "Epoch 7/100\n",
            "38/38 [==============================] - 3s 79ms/step - loss: 0.0043\n",
            "Epoch 8/100\n",
            "38/38 [==============================] - 3s 77ms/step - loss: 0.0042\n",
            "Epoch 9/100\n",
            "38/38 [==============================] - 3s 76ms/step - loss: 0.0043\n",
            "Epoch 10/100\n",
            "38/38 [==============================] - 3s 77ms/step - loss: 0.0042\n",
            "Epoch 11/100\n",
            "38/38 [==============================] - 3s 76ms/step - loss: 0.0041\n",
            "Epoch 12/100\n",
            "38/38 [==============================] - 3s 77ms/step - loss: 0.0040\n",
            "Epoch 13/100\n",
            "38/38 [==============================] - 3s 79ms/step - loss: 0.0036\n",
            "Epoch 14/100\n",
            "38/38 [==============================] - 3s 78ms/step - loss: 0.0039\n",
            "Epoch 15/100\n",
            "38/38 [==============================] - 3s 77ms/step - loss: 0.0034\n",
            "Epoch 16/100\n",
            "38/38 [==============================] - 3s 77ms/step - loss: 0.0036\n",
            "Epoch 17/100\n",
            "38/38 [==============================] - 3s 78ms/step - loss: 0.0037\n",
            "Epoch 18/100\n",
            "38/38 [==============================] - 3s 78ms/step - loss: 0.0036\n",
            "Epoch 19/100\n",
            "38/38 [==============================] - 3s 77ms/step - loss: 0.0033\n",
            "Epoch 20/100\n",
            "38/38 [==============================] - 3s 78ms/step - loss: 0.0030\n",
            "Epoch 21/100\n",
            "38/38 [==============================] - 4s 100ms/step - loss: 0.0034\n",
            "Epoch 22/100\n",
            "38/38 [==============================] - 3s 77ms/step - loss: 0.0032\n",
            "Epoch 23/100\n",
            "38/38 [==============================] - 3s 77ms/step - loss: 0.0030\n",
            "Epoch 24/100\n",
            "38/38 [==============================] - 3s 76ms/step - loss: 0.0028\n",
            "Epoch 25/100\n",
            "38/38 [==============================] - 3s 76ms/step - loss: 0.0034\n",
            "Epoch 26/100\n",
            "38/38 [==============================] - 3s 76ms/step - loss: 0.0037\n",
            "Epoch 27/100\n",
            "38/38 [==============================] - 3s 77ms/step - loss: 0.0036\n",
            "Epoch 28/100\n",
            "38/38 [==============================] - 3s 78ms/step - loss: 0.0029\n",
            "Epoch 29/100\n",
            "38/38 [==============================] - 3s 77ms/step - loss: 0.0028\n",
            "Epoch 30/100\n",
            "38/38 [==============================] - 3s 77ms/step - loss: 0.0028\n",
            "Epoch 31/100\n",
            "38/38 [==============================] - 4s 98ms/step - loss: 0.0025\n",
            "Epoch 32/100\n",
            "38/38 [==============================] - 5s 137ms/step - loss: 0.0026\n",
            "Epoch 33/100\n",
            "38/38 [==============================] - 6s 148ms/step - loss: 0.0029\n",
            "Epoch 34/100\n",
            "38/38 [==============================] - 5s 142ms/step - loss: 0.0025\n",
            "Epoch 35/100\n",
            "38/38 [==============================] - 3s 77ms/step - loss: 0.0024\n",
            "Epoch 36/100\n",
            "38/38 [==============================] - 3s 78ms/step - loss: 0.0023\n",
            "Epoch 37/100\n",
            "38/38 [==============================] - 3s 78ms/step - loss: 0.0026\n",
            "Epoch 38/100\n",
            "38/38 [==============================] - 3s 86ms/step - loss: 0.0024\n",
            "Epoch 39/100\n",
            "38/38 [==============================] - 6s 146ms/step - loss: 0.0027\n",
            "Epoch 40/100\n",
            "38/38 [==============================] - 5s 121ms/step - loss: 0.0024\n",
            "Epoch 41/100\n",
            "38/38 [==============================] - 3s 77ms/step - loss: 0.0023\n",
            "Epoch 42/100\n",
            "38/38 [==============================] - 3s 77ms/step - loss: 0.0024\n",
            "Epoch 43/100\n",
            "38/38 [==============================] - 3s 76ms/step - loss: 0.0025\n",
            "Epoch 44/100\n",
            "38/38 [==============================] - 3s 77ms/step - loss: 0.0022\n",
            "Epoch 45/100\n",
            "38/38 [==============================] - 6s 149ms/step - loss: 0.0024\n",
            "Epoch 46/100\n",
            "38/38 [==============================] - 5s 140ms/step - loss: 0.0024\n",
            "Epoch 47/100\n",
            "38/38 [==============================] - 4s 111ms/step - loss: 0.0021\n",
            "Epoch 48/100\n",
            "38/38 [==============================] - 3s 78ms/step - loss: 0.0024\n",
            "Epoch 49/100\n",
            "38/38 [==============================] - 3s 77ms/step - loss: 0.0021\n",
            "Epoch 50/100\n",
            "38/38 [==============================] - 3s 77ms/step - loss: 0.0022\n",
            "Epoch 51/100\n",
            "38/38 [==============================] - 3s 77ms/step - loss: 0.0020\n",
            "Epoch 52/100\n",
            "38/38 [==============================] - 3s 78ms/step - loss: 0.0021\n",
            "Epoch 53/100\n",
            "38/38 [==============================] - 3s 79ms/step - loss: 0.0020\n",
            "Epoch 54/100\n",
            "38/38 [==============================] - 4s 106ms/step - loss: 0.0019\n",
            "Epoch 55/100\n",
            "38/38 [==============================] - 3s 78ms/step - loss: 0.0021\n",
            "Epoch 56/100\n",
            "38/38 [==============================] - 3s 78ms/step - loss: 0.0023\n",
            "Epoch 57/100\n",
            "38/38 [==============================] - 3s 77ms/step - loss: 0.0020\n",
            "Epoch 58/100\n",
            "38/38 [==============================] - 3s 77ms/step - loss: 0.0020\n",
            "Epoch 59/100\n",
            "38/38 [==============================] - 3s 77ms/step - loss: 0.0022\n",
            "Epoch 60/100\n",
            "38/38 [==============================] - 3s 77ms/step - loss: 0.0020\n",
            "Epoch 61/100\n",
            "38/38 [==============================] - 3s 77ms/step - loss: 0.0019\n",
            "Epoch 62/100\n",
            "38/38 [==============================] - 3s 79ms/step - loss: 0.0020\n",
            "Epoch 63/100\n",
            "38/38 [==============================] - 3s 77ms/step - loss: 0.0019\n",
            "Epoch 64/100\n",
            "38/38 [==============================] - 3s 85ms/step - loss: 0.0018\n",
            "Epoch 65/100\n",
            "38/38 [==============================] - 3s 78ms/step - loss: 0.0019\n",
            "Epoch 66/100\n",
            "38/38 [==============================] - 3s 79ms/step - loss: 0.0018\n",
            "Epoch 67/100\n",
            "38/38 [==============================] - 3s 77ms/step - loss: 0.0018\n",
            "Epoch 68/100\n",
            "38/38 [==============================] - 3s 77ms/step - loss: 0.0019\n",
            "Epoch 69/100\n",
            "38/38 [==============================] - 3s 76ms/step - loss: 0.0018\n",
            "Epoch 70/100\n",
            "38/38 [==============================] - 3s 76ms/step - loss: 0.0014\n",
            "Epoch 71/100\n",
            "38/38 [==============================] - 3s 77ms/step - loss: 0.0017\n",
            "Epoch 72/100\n",
            "38/38 [==============================] - 3s 90ms/step - loss: 0.0015\n",
            "Epoch 73/100\n",
            "38/38 [==============================] - 3s 89ms/step - loss: 0.0016\n",
            "Epoch 74/100\n",
            "38/38 [==============================] - 3s 77ms/step - loss: 0.0017\n",
            "Epoch 75/100\n",
            "38/38 [==============================] - 3s 77ms/step - loss: 0.0016\n",
            "Epoch 76/100\n",
            "38/38 [==============================] - 3s 78ms/step - loss: 0.0015\n",
            "Epoch 77/100\n",
            "38/38 [==============================] - 3s 77ms/step - loss: 0.0015\n",
            "Epoch 78/100\n",
            "38/38 [==============================] - 3s 77ms/step - loss: 0.0015\n",
            "Epoch 79/100\n",
            "38/38 [==============================] - 3s 76ms/step - loss: 0.0016\n",
            "Epoch 80/100\n",
            "38/38 [==============================] - 3s 77ms/step - loss: 0.0015\n",
            "Epoch 81/100\n",
            "38/38 [==============================] - 3s 77ms/step - loss: 0.0014\n",
            "Epoch 82/100\n",
            "38/38 [==============================] - 3s 78ms/step - loss: 0.0015\n",
            "Epoch 83/100\n",
            "38/38 [==============================] - 4s 106ms/step - loss: 0.0016\n",
            "Epoch 84/100\n",
            "38/38 [==============================] - 6s 169ms/step - loss: 0.0014\n",
            "Epoch 85/100\n",
            "38/38 [==============================] - 4s 93ms/step - loss: 0.0014\n",
            "Epoch 86/100\n",
            "38/38 [==============================] - 3s 78ms/step - loss: 0.0015\n",
            "Epoch 87/100\n",
            "38/38 [==============================] - 3s 79ms/step - loss: 0.0015\n",
            "Epoch 88/100\n",
            "38/38 [==============================] - 3s 78ms/step - loss: 0.0016\n",
            "Epoch 89/100\n",
            "38/38 [==============================] - 3s 78ms/step - loss: 0.0016\n",
            "Epoch 90/100\n",
            "38/38 [==============================] - 3s 80ms/step - loss: 0.0014\n",
            "Epoch 91/100\n",
            "38/38 [==============================] - 3s 80ms/step - loss: 0.0015\n",
            "Epoch 92/100\n",
            "38/38 [==============================] - 3s 79ms/step - loss: 0.0013\n",
            "Epoch 93/100\n",
            "38/38 [==============================] - 3s 78ms/step - loss: 0.0014\n",
            "Epoch 94/100\n",
            "38/38 [==============================] - 3s 78ms/step - loss: 0.0014\n",
            "Epoch 95/100\n",
            "38/38 [==============================] - 3s 78ms/step - loss: 0.0012\n",
            "Epoch 96/100\n",
            "38/38 [==============================] - 3s 77ms/step - loss: 0.0012\n",
            "Epoch 97/100\n",
            "38/38 [==============================] - 3s 78ms/step - loss: 0.0013\n",
            "Epoch 98/100\n",
            "38/38 [==============================] - 3s 78ms/step - loss: 0.0014\n",
            "Epoch 99/100\n",
            "38/38 [==============================] - 3s 79ms/step - loss: 0.0013\n",
            "Epoch 100/100\n",
            "38/38 [==============================] - 3s 78ms/step - loss: 0.0012\n"
          ]
        },
        {
          "output_type": "execute_result",
          "data": {
            "text/plain": [
              "<keras.callbacks.History at 0x7f7bf6d7ac90>"
            ]
          },
          "metadata": {},
          "execution_count": 36
        }
      ],
      "source": [
        "#derlene yapılacak\n",
        "rnn.compile(optimizer = 'adam', loss = 'mean_squared_error')\n",
        "rnn.fit(x_df_train, y_df_train, epochs = 100, batch_size = 32)"
      ]
    },
    {
      "cell_type": "code",
      "execution_count": null,
      "metadata": {
        "id": "bkws_rc_2TP9"
      },
      "outputs": [],
      "source": [
        "test_data = pd.read_csv('Google_Stock_Price_Test.csv')\n",
        "\n",
        "abc = test_data.iloc[:, 1: 2].values\n"
      ]
    },
    {
      "cell_type": "code",
      "source": [
        "olc_data = pd.read_csv('Google_Stock_Price_Train.csv')\n",
        "olc_test_data = pd.read_csv('Google_Stock_Price_Test.csv')"
      ],
      "metadata": {
        "id": "uLlketAMxJ8a"
      },
      "execution_count": null,
      "outputs": []
    },
    {
      "cell_type": "code",
      "execution_count": null,
      "metadata": {
        "id": "qj8SRrQ33LJg"
      },
      "outputs": [],
      "source": [
        "\n",
        "\n",
        "olc_test_data = olc_test_data.iloc[:, 1: 2].values\n"
      ]
    },
    {
      "cell_type": "code",
      "execution_count": null,
      "metadata": {
        "id": "JEu1OXQ20pCr"
      },
      "outputs": [],
      "source": [
        "df= pd.read_csv(\"Google_Stock_Price_Train.csv\",index_col=\"Date\",parse_dates=True)"
      ]
    },
    {
      "cell_type": "code",
      "source": [
        "data = pd.concat((olc_data['Open'], olc_test_data['Open']), axis = 0)"
      ],
      "metadata": {
        "id": "JvIYZ5xNxR6p"
      },
      "execution_count": null,
      "outputs": []
    },
    {
      "cell_type": "code",
      "source": [
        "x_test_data = data[len(data) - len(olc_test_data) - 45:].values"
      ],
      "metadata": {
        "id": "T4mWDZ8fnctG"
      },
      "execution_count": null,
      "outputs": []
    },
    {
      "cell_type": "code",
      "execution_count": null,
      "metadata": {
        "id": "OUkUYz_l2k30"
      },
      "outputs": [],
      "source": [
        "x_test_data = np.reshape(x_test_data, (-1, 1))"
      ]
    },
    {
      "cell_type": "code",
      "source": [
        "x_test_data = sc.transform(x_test_data)"
      ],
      "metadata": {
        "id": "7VE7UEgKas3N"
      },
      "execution_count": null,
      "outputs": []
    },
    {
      "cell_type": "code",
      "source": [
        "x_test_data_fin = []\n",
        "\n",
        "for i in range(50, len(x_test_data)):\n",
        "\n",
        "    x_test_data_fin.append(x_test_data[i-50:i, 0])\n",
        "\n",
        "x_test_data_fin = np.array(x_test_data_fin)"
      ],
      "metadata": {
        "id": "hJFksHI07lzL"
      },
      "execution_count": null,
      "outputs": []
    },
    {
      "cell_type": "code",
      "source": [
        "\n",
        "x_test_data_fin = np.reshape(x_test_data_fin, (x_test_data_fin.shape[0], \n",
        "\n",
        "                                               x_test_data_fin.shape[1], \n",
        "\n",
        "                                               1))\n"
      ],
      "metadata": {
        "id": "I5kIFKLDbEpy"
      },
      "execution_count": null,
      "outputs": []
    },
    {
      "cell_type": "code",
      "source": [
        "x_test_data_fin.shape"
      ],
      "metadata": {
        "colab": {
          "base_uri": "https://localhost:8080/"
        },
        "id": "ctoiDIGDfPnt",
        "outputId": "691b33bd-3a36-4212-8b4f-aeb3509ce1aa"
      },
      "execution_count": null,
      "outputs": [
        {
          "output_type": "execute_result",
          "data": {
            "text/plain": [
              "(15, 50, 1)"
            ]
          },
          "metadata": {},
          "execution_count": 61
        }
      ]
    },
    {
      "cell_type": "code",
      "source": [
        "predict = rnn.predict(x_test_data_fin)"
      ],
      "metadata": {
        "id": "dkn0P8Uk9v8b"
      },
      "execution_count": null,
      "outputs": []
    },
    {
      "cell_type": "code",
      "source": [
        "olc_predict = sc.inverse_transform(predict)\n",
        "plt.plot(olc_predict)\n",
        "\n"
      ],
      "metadata": {
        "colab": {
          "base_uri": "https://localhost:8080/",
          "height": 283
        },
        "id": "9OidlGb6AwAJ",
        "outputId": "b34611e8-0c75-46ef-951d-9d2c0c3a6c4f"
      },
      "execution_count": null,
      "outputs": [
        {
          "output_type": "execute_result",
          "data": {
            "text/plain": [
              "[<matplotlib.lines.Line2D at 0x7f7bf6898f90>]"
            ]
          },
          "metadata": {},
          "execution_count": 63
        },
        {
          "output_type": "display_data",
          "data": {
            "text/plain": [
              "<Figure size 432x288 with 1 Axes>"
            ],
            "image/png": "[encoded data removed]"
          },
          "metadata": {
            "needs_background": "light"
          }
        }
      ]
    },
    {
      "cell_type": "code",
      "source": [],
      "metadata": {
        "id": "8oVCLaj_1rz3"
      },
      "execution_count": null,
      "outputs": []
    },
    {
      "cell_type": "code",
      "source": [],
      "metadata": {
        "id": "31L8VxDe3PZh"
      },
      "execution_count": null,
      "outputs": []
    },
    {
      "cell_type": "code",
      "source": [
        "plt.plot(olc_test_data, color = 'red', label = 'Real Google Stock Price')\n",
        "plt.plot(olc_predict, color = 'blue', label = 'Predicted Google Stock Price')\n",
        "plt.title('Google Stock Price Prediction')\n",
        "plt.xlabel('Time')\n",
        "plt.ylabel('Google Stock Price')\n",
        "plt.legend()\n",
        "plt.show()\n"
      ],
      "metadata": {
        "colab": {
          "base_uri": "https://localhost:8080/",
          "height": 295
        },
        "id": "sip5Sl393Xqi",
        "outputId": "d08d6098-debf-44fa-8968-040978574396"
      },
      "execution_count": null,
      "outputs": [
        {
          "output_type": "display_data",
          "data": {
            "text/plain": [
              "<Figure size 432x288 with 1 Axes>"
            ],
            "image/png": "[encoded data removed]"
          },
          "metadata": {
            "needs_background": "light"
          }
        }
      ]
    },
    {
      "cell_type": "code",
      "source": [],
      "metadata": {
        "id": "ei9N7q78iTwQ"
      },
      "execution_count": null,
      "outputs": []
    }
  ],
  "metadata": {
    "colab": {
      "provenance": [],
      "authorship_tag": "ABX9TyOVaZQe1I53kYnPVWj8nomP",
      "include_colab_link": true
    },
    "kernelspec": {
      "display_name": "Python 3",
      "name": "python3"
    },
    "language_info": {
      "name": "python"
    }
  },
  "nbformat": 4,
  "nbformat_minor": 0
}